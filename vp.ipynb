{
 "cells": [
  {
   "cell_type": "code",
   "execution_count": 4,
   "metadata": {},
   "outputs": [],
   "source": [
    "import pandas as pd\n",
    "import json\n",
    "\n",
    "# 데이터 불러오기 및 전처리\n",
    "df = pd.read_csv('data/교통사고 데이터/전국교통사고다발지역표준데이터.csv', encoding='euc-kr')\n",
    "drop_list = ['데이터기준일자', '제공기관코드', '제공기관명']\n",
    "df = df.drop(columns=drop_list)\n",
    "\n",
    "# '위치코드'의 앞 5자리 숫자로 그룹화하고 사고건수를 합산\n",
    "df['위치코드_시군구'] = df['위치코드'].astype(str).str[:5]\n",
    "df_grouped = df.groupby('위치코드_시군구', as_index=False)['사고건수'].sum()\n",
    "df_grouped = df_grouped.dropna(subset=['위치코드_시군구'])\n",
    "df_grouped = df_grouped['사고건수'].fillna(0)\n",
    "\n",
    "\n",
    "# 결과를 JSON 파일로 저장\n",
    "df_grouped.to_json('data/accident_data.json', orient='records', force_ascii=False)"
   ]
  },
  {
   "cell_type": "code",
   "execution_count": 1,
   "metadata": {},
   "outputs": [],
   "source": [
    "# 다른 표 데이터를 JSON으로 저장할 수도 있음 (원하는 경우)\n",
    "df_sorted = df.sort_values(by='사고건수', ascending=False)\n",
    "df_sorted[['사고지역위치명', '사고건수']].head(20).to_json('data/top20_accident_locations.json', orient='records', force_ascii=False)\n",
    "\n",
    "# 법정구역 GeoJSON 파일에서 시군구명과 위치코드 매핑 정보 불러오기\n",
    "with open('data/법정구역_시군구.geojson', 'r', encoding='utf-8') as f:\n",
    "    geojson = json.load(f)\n",
    "\n",
    "# GeoJSON에서 시군구명과 위치코드 추출\n",
    "location_mapping = {}\n",
    "for feature in geojson['features']:\n",
    "    code = feature['properties']['SIG_CD']\n",
    "    name = feature['properties']['SIG_KOR_NM']\n",
    "    location_mapping[code] = name\n",
    "\n",
    "# df_grouped에 시군구명 추가\n",
    "df_grouped['시군구명'] = df_grouped['위치코드_시군구'].map(location_mapping)\n",
    "\n",
    "# 시군구명 기준으로 사고건수 정렬\n",
    "df_grouped_sorted = df_grouped.sort_values(by='사고건수', ascending=False)\n",
    "\n",
    "# 시군구명이 null인 행을 제외하고 상위 20개 데이터 선택\n",
    "df_grouped_sorted = df_grouped_sorted.dropna(subset=['시군구명']).head(20)\n",
    "\n",
    "# 결과를 JSON 파일로 저장 (시군구명 포함)\n",
    "df_grouped_sorted[['시군구명', '사고건수']].to_json('data/top20_accident_grouped.json', orient='records', force_ascii=False)\n"
   ]
  }
 ],
 "metadata": {
  "kernelspec": {
   "display_name": "torch",
   "language": "python",
   "name": "python3"
  },
  "language_info": {
   "codemirror_mode": {
    "name": "ipython",
    "version": 3
   },
   "file_extension": ".py",
   "mimetype": "text/x-python",
   "name": "python",
   "nbconvert_exporter": "python",
   "pygments_lexer": "ipython3",
   "version": "3.9.18"
  }
 },
 "nbformat": 4,
 "nbformat_minor": 2
}
